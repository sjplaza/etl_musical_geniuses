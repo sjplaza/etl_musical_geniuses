{
 "cells": [
  {
   "cell_type": "code",
   "execution_count": 1,
   "metadata": {},
   "outputs": [],
   "source": [
    "#Dependencies and Setup\n",
    "import pandas as pd\n",
    "from sqlalchemy import create_engine"
   ]
  },
  {
   "cell_type": "code",
   "execution_count": 2,
   "metadata": {},
   "outputs": [
    {
     "data": {
      "text/html": [
       "<div>\n",
       "<style scoped>\n",
       "    .dataframe tbody tr th:only-of-type {\n",
       "        vertical-align: middle;\n",
       "    }\n",
       "\n",
       "    .dataframe tbody tr th {\n",
       "        vertical-align: top;\n",
       "    }\n",
       "\n",
       "    .dataframe thead th {\n",
       "        text-align: right;\n",
       "    }\n",
       "</style>\n",
       "<table border=\"1\" class=\"dataframe\">\n",
       "  <thead>\n",
       "    <tr style=\"text-align: right;\">\n",
       "      <th></th>\n",
       "      <th>acousticness</th>\n",
       "      <th>artists</th>\n",
       "      <th>danceability</th>\n",
       "      <th>duration_ms</th>\n",
       "      <th>energy</th>\n",
       "      <th>explicit</th>\n",
       "      <th>id</th>\n",
       "      <th>instrumentalness</th>\n",
       "      <th>key</th>\n",
       "      <th>liveness</th>\n",
       "      <th>loudness</th>\n",
       "      <th>mode</th>\n",
       "      <th>name</th>\n",
       "      <th>popularity</th>\n",
       "      <th>release_date</th>\n",
       "      <th>speechiness</th>\n",
       "      <th>tempo</th>\n",
       "      <th>valence</th>\n",
       "      <th>year</th>\n",
       "    </tr>\n",
       "  </thead>\n",
       "  <tbody>\n",
       "    <tr>\n",
       "      <th>0</th>\n",
       "      <td>0.995</td>\n",
       "      <td>[Carl Woitschach]</td>\n",
       "      <td>0.708</td>\n",
       "      <td>158648</td>\n",
       "      <td>0.1950</td>\n",
       "      <td>0</td>\n",
       "      <td>6KbQ3uYMLKb5jDxLF7wYDD</td>\n",
       "      <td>0.563</td>\n",
       "      <td>10</td>\n",
       "      <td>0.1510</td>\n",
       "      <td>-12.428</td>\n",
       "      <td>1</td>\n",
       "      <td>Singende Bataillone 1. Teil</td>\n",
       "      <td>0</td>\n",
       "      <td>1928</td>\n",
       "      <td>0.0506</td>\n",
       "      <td>118.469</td>\n",
       "      <td>0.7790</td>\n",
       "      <td>1928</td>\n",
       "    </tr>\n",
       "    <tr>\n",
       "      <th>1</th>\n",
       "      <td>0.994</td>\n",
       "      <td>[Robert Schumann, Vladimir Horowitz]</td>\n",
       "      <td>0.379</td>\n",
       "      <td>282133</td>\n",
       "      <td>0.0135</td>\n",
       "      <td>0</td>\n",
       "      <td>6KuQTIu1KoTTkLXKrwlLPV</td>\n",
       "      <td>0.901</td>\n",
       "      <td>8</td>\n",
       "      <td>0.0763</td>\n",
       "      <td>-28.454</td>\n",
       "      <td>1</td>\n",
       "      <td>Fantasiestücke, Op. 111: Più tosto lento</td>\n",
       "      <td>0</td>\n",
       "      <td>1928</td>\n",
       "      <td>0.0462</td>\n",
       "      <td>83.972</td>\n",
       "      <td>0.0767</td>\n",
       "      <td>1928</td>\n",
       "    </tr>\n",
       "    <tr>\n",
       "      <th>2</th>\n",
       "      <td>0.604</td>\n",
       "      <td>[Seweryn Goszczyński]</td>\n",
       "      <td>0.749</td>\n",
       "      <td>104300</td>\n",
       "      <td>0.2200</td>\n",
       "      <td>0</td>\n",
       "      <td>6L63VW0PibdM1HDSBoqnoM</td>\n",
       "      <td>0.000</td>\n",
       "      <td>5</td>\n",
       "      <td>0.1190</td>\n",
       "      <td>-19.924</td>\n",
       "      <td>0</td>\n",
       "      <td>Chapter 1.18 - Zamek kaniowski</td>\n",
       "      <td>0</td>\n",
       "      <td>1928</td>\n",
       "      <td>0.9290</td>\n",
       "      <td>107.177</td>\n",
       "      <td>0.8800</td>\n",
       "      <td>1928</td>\n",
       "    </tr>\n",
       "    <tr>\n",
       "      <th>3</th>\n",
       "      <td>0.995</td>\n",
       "      <td>[Francisco Canaro]</td>\n",
       "      <td>0.781</td>\n",
       "      <td>180760</td>\n",
       "      <td>0.1300</td>\n",
       "      <td>0</td>\n",
       "      <td>6M94FkXd15sOAOQYRnWPN8</td>\n",
       "      <td>0.887</td>\n",
       "      <td>1</td>\n",
       "      <td>0.1110</td>\n",
       "      <td>-14.734</td>\n",
       "      <td>0</td>\n",
       "      <td>Bebamos Juntos - Instrumental (Remasterizado)</td>\n",
       "      <td>0</td>\n",
       "      <td>9/25/1928</td>\n",
       "      <td>0.0926</td>\n",
       "      <td>108.003</td>\n",
       "      <td>0.7200</td>\n",
       "      <td>1928</td>\n",
       "    </tr>\n",
       "    <tr>\n",
       "      <th>4</th>\n",
       "      <td>0.990</td>\n",
       "      <td>[Frédéric Chopin, Vladimir Horowitz]</td>\n",
       "      <td>0.210</td>\n",
       "      <td>687733</td>\n",
       "      <td>0.2040</td>\n",
       "      <td>0</td>\n",
       "      <td>6N6tiFZ9vLTSOIxkj8qKrd</td>\n",
       "      <td>0.908</td>\n",
       "      <td>11</td>\n",
       "      <td>0.0980</td>\n",
       "      <td>-16.829</td>\n",
       "      <td>1</td>\n",
       "      <td>Polonaise-Fantaisie in A-Flat Major, Op. 61</td>\n",
       "      <td>1</td>\n",
       "      <td>1928</td>\n",
       "      <td>0.0424</td>\n",
       "      <td>62.149</td>\n",
       "      <td>0.0693</td>\n",
       "      <td>1928</td>\n",
       "    </tr>\n",
       "  </tbody>\n",
       "</table>\n",
       "</div>"
      ],
      "text/plain": [
       "   acousticness                               artists  danceability  \\\n",
       "0         0.995                     [Carl Woitschach]         0.708   \n",
       "1         0.994  [Robert Schumann, Vladimir Horowitz]         0.379   \n",
       "2         0.604                 [Seweryn Goszczyński]         0.749   \n",
       "3         0.995                    [Francisco Canaro]         0.781   \n",
       "4         0.990  [Frédéric Chopin, Vladimir Horowitz]         0.210   \n",
       "\n",
       "   duration_ms  energy  explicit                      id  instrumentalness  \\\n",
       "0       158648  0.1950         0  6KbQ3uYMLKb5jDxLF7wYDD             0.563   \n",
       "1       282133  0.0135         0  6KuQTIu1KoTTkLXKrwlLPV             0.901   \n",
       "2       104300  0.2200         0  6L63VW0PibdM1HDSBoqnoM             0.000   \n",
       "3       180760  0.1300         0  6M94FkXd15sOAOQYRnWPN8             0.887   \n",
       "4       687733  0.2040         0  6N6tiFZ9vLTSOIxkj8qKrd             0.908   \n",
       "\n",
       "   key  liveness  loudness  mode  \\\n",
       "0   10    0.1510   -12.428     1   \n",
       "1    8    0.0763   -28.454     1   \n",
       "2    5    0.1190   -19.924     0   \n",
       "3    1    0.1110   -14.734     0   \n",
       "4   11    0.0980   -16.829     1   \n",
       "\n",
       "                                            name  popularity release_date  \\\n",
       "0                    Singende Bataillone 1. Teil           0         1928   \n",
       "1       Fantasiestücke, Op. 111: Più tosto lento           0         1928   \n",
       "2                 Chapter 1.18 - Zamek kaniowski           0         1928   \n",
       "3  Bebamos Juntos - Instrumental (Remasterizado)           0    9/25/1928   \n",
       "4    Polonaise-Fantaisie in A-Flat Major, Op. 61           1         1928   \n",
       "\n",
       "   speechiness    tempo  valence  year  \n",
       "0       0.0506  118.469   0.7790  1928  \n",
       "1       0.0462   83.972   0.0767  1928  \n",
       "2       0.9290  107.177   0.8800  1928  \n",
       "3       0.0926  108.003   0.7200  1928  \n",
       "4       0.0424   62.149   0.0693  1928  "
      ]
     },
     "execution_count": 2,
     "metadata": {},
     "output_type": "execute_result"
    }
   ],
   "source": [
    "#import CSV files\n",
    "data_file = \"data.csv\"\n",
    "Data_df = pd.read_csv(data_file)\n",
    "Data_df.head()"
   ]
  },
  {
   "cell_type": "code",
   "execution_count": 3,
   "metadata": {
    "scrolled": true
   },
   "outputs": [
    {
     "data": {
      "text/html": [
       "<div>\n",
       "<style scoped>\n",
       "    .dataframe tbody tr th:only-of-type {\n",
       "        vertical-align: middle;\n",
       "    }\n",
       "\n",
       "    .dataframe tbody tr th {\n",
       "        vertical-align: top;\n",
       "    }\n",
       "\n",
       "    .dataframe thead th {\n",
       "        text-align: right;\n",
       "    }\n",
       "</style>\n",
       "<table border=\"1\" class=\"dataframe\">\n",
       "  <thead>\n",
       "    <tr style=\"text-align: right;\">\n",
       "      <th></th>\n",
       "      <th>year</th>\n",
       "      <th>artists</th>\n",
       "      <th>name</th>\n",
       "      <th>energy</th>\n",
       "      <th>danceability</th>\n",
       "      <th>speechiness</th>\n",
       "      <th>tempo</th>\n",
       "    </tr>\n",
       "  </thead>\n",
       "  <tbody>\n",
       "    <tr>\n",
       "      <th>0</th>\n",
       "      <td>1928</td>\n",
       "      <td>[Carl Woitschach]</td>\n",
       "      <td>Singende Bataillone 1. Teil</td>\n",
       "      <td>0.1950</td>\n",
       "      <td>0.708</td>\n",
       "      <td>0.0506</td>\n",
       "      <td>118.469</td>\n",
       "    </tr>\n",
       "    <tr>\n",
       "      <th>1</th>\n",
       "      <td>1928</td>\n",
       "      <td>[Robert Schumann, Vladimir Horowitz]</td>\n",
       "      <td>Fantasiestücke, Op. 111: Più tosto lento</td>\n",
       "      <td>0.0135</td>\n",
       "      <td>0.379</td>\n",
       "      <td>0.0462</td>\n",
       "      <td>83.972</td>\n",
       "    </tr>\n",
       "    <tr>\n",
       "      <th>2</th>\n",
       "      <td>1928</td>\n",
       "      <td>[Seweryn Goszczyński]</td>\n",
       "      <td>Chapter 1.18 - Zamek kaniowski</td>\n",
       "      <td>0.2200</td>\n",
       "      <td>0.749</td>\n",
       "      <td>0.9290</td>\n",
       "      <td>107.177</td>\n",
       "    </tr>\n",
       "    <tr>\n",
       "      <th>3</th>\n",
       "      <td>1928</td>\n",
       "      <td>[Francisco Canaro]</td>\n",
       "      <td>Bebamos Juntos - Instrumental (Remasterizado)</td>\n",
       "      <td>0.1300</td>\n",
       "      <td>0.781</td>\n",
       "      <td>0.0926</td>\n",
       "      <td>108.003</td>\n",
       "    </tr>\n",
       "    <tr>\n",
       "      <th>4</th>\n",
       "      <td>1928</td>\n",
       "      <td>[Frédéric Chopin, Vladimir Horowitz]</td>\n",
       "      <td>Polonaise-Fantaisie in A-Flat Major, Op. 61</td>\n",
       "      <td>0.2040</td>\n",
       "      <td>0.210</td>\n",
       "      <td>0.0424</td>\n",
       "      <td>62.149</td>\n",
       "    </tr>\n",
       "  </tbody>\n",
       "</table>\n",
       "</div>"
      ],
      "text/plain": [
       "   year                               artists  \\\n",
       "0  1928                     [Carl Woitschach]   \n",
       "1  1928  [Robert Schumann, Vladimir Horowitz]   \n",
       "2  1928                 [Seweryn Goszczyński]   \n",
       "3  1928                    [Francisco Canaro]   \n",
       "4  1928  [Frédéric Chopin, Vladimir Horowitz]   \n",
       "\n",
       "                                            name  energy  danceability  \\\n",
       "0                    Singende Bataillone 1. Teil  0.1950         0.708   \n",
       "1       Fantasiestücke, Op. 111: Più tosto lento  0.0135         0.379   \n",
       "2                 Chapter 1.18 - Zamek kaniowski  0.2200         0.749   \n",
       "3  Bebamos Juntos - Instrumental (Remasterizado)  0.1300         0.781   \n",
       "4    Polonaise-Fantaisie in A-Flat Major, Op. 61  0.2040         0.210   \n",
       "\n",
       "   speechiness    tempo  \n",
       "0       0.0506  118.469  \n",
       "1       0.0462   83.972  \n",
       "2       0.9290  107.177  \n",
       "3       0.0926  108.003  \n",
       "4       0.0424   62.149  "
      ]
     },
     "execution_count": 3,
     "metadata": {},
     "output_type": "execute_result"
    }
   ],
   "source": [
    "CleanData_df = Data_df [['year', 'artists', 'name', 'energy', 'danceability',  'speechiness', 'tempo']]\n",
    "CleanData_df.head()"
   ]
  },
  {
   "cell_type": "code",
   "execution_count": 4,
   "metadata": {},
   "outputs": [
    {
     "data": {
      "text/html": [
       "<div>\n",
       "<style scoped>\n",
       "    .dataframe tbody tr th:only-of-type {\n",
       "        vertical-align: middle;\n",
       "    }\n",
       "\n",
       "    .dataframe tbody tr th {\n",
       "        vertical-align: top;\n",
       "    }\n",
       "\n",
       "    .dataframe thead th {\n",
       "        text-align: right;\n",
       "    }\n",
       "</style>\n",
       "<table border=\"1\" class=\"dataframe\">\n",
       "  <thead>\n",
       "    <tr style=\"text-align: right;\">\n",
       "      <th></th>\n",
       "      <th>year</th>\n",
       "      <th>artists</th>\n",
       "      <th>name</th>\n",
       "      <th>energy</th>\n",
       "      <th>danceability</th>\n",
       "      <th>speechiness</th>\n",
       "      <th>tempo</th>\n",
       "    </tr>\n",
       "  </thead>\n",
       "  <tbody>\n",
       "    <tr>\n",
       "      <th>354</th>\n",
       "      <td>1940</td>\n",
       "      <td>[Roza Eskenazi, Nikos Karakostas]</td>\n",
       "      <td>Stazoun ta keramidia sou</td>\n",
       "      <td>0.441</td>\n",
       "      <td>0.590</td>\n",
       "      <td>0.0445</td>\n",
       "      <td>77.988</td>\n",
       "    </tr>\n",
       "    <tr>\n",
       "      <th>355</th>\n",
       "      <td>1940</td>\n",
       "      <td>[Francisco Canaro, Ernesto Fama]</td>\n",
       "      <td>Radio Amor - Remasterizado</td>\n",
       "      <td>0.557</td>\n",
       "      <td>0.737</td>\n",
       "      <td>0.0473</td>\n",
       "      <td>131.353</td>\n",
       "    </tr>\n",
       "    <tr>\n",
       "      <th>356</th>\n",
       "      <td>1940</td>\n",
       "      <td>[Эрнест Хемингуэй]</td>\n",
       "      <td>Часть 98.3 - По ком звонит колокол</td>\n",
       "      <td>0.153</td>\n",
       "      <td>0.750</td>\n",
       "      <td>0.9500</td>\n",
       "      <td>60.051</td>\n",
       "    </tr>\n",
       "    <tr>\n",
       "      <th>357</th>\n",
       "      <td>1940</td>\n",
       "      <td>[Kalanidhi Rathin Ghosh]</td>\n",
       "      <td>Radhar Ki Holo Antare Byatha</td>\n",
       "      <td>0.346</td>\n",
       "      <td>0.295</td>\n",
       "      <td>0.0585</td>\n",
       "      <td>82.392</td>\n",
       "    </tr>\n",
       "    <tr>\n",
       "      <th>358</th>\n",
       "      <td>1940</td>\n",
       "      <td>[Marika Kanaropoulou]</td>\n",
       "      <td>Vale me stin agkalia sou</td>\n",
       "      <td>0.320</td>\n",
       "      <td>0.642</td>\n",
       "      <td>0.0711</td>\n",
       "      <td>122.134</td>\n",
       "    </tr>\n",
       "  </tbody>\n",
       "</table>\n",
       "</div>"
      ],
      "text/plain": [
       "     year                            artists  \\\n",
       "354  1940  [Roza Eskenazi, Nikos Karakostas]   \n",
       "355  1940   [Francisco Canaro, Ernesto Fama]   \n",
       "356  1940                 [Эрнест Хемингуэй]   \n",
       "357  1940           [Kalanidhi Rathin Ghosh]   \n",
       "358  1940              [Marika Kanaropoulou]   \n",
       "\n",
       "                                   name  energy  danceability  speechiness  \\\n",
       "354            Stazoun ta keramidia sou   0.441         0.590       0.0445   \n",
       "355          Radio Amor - Remasterizado   0.557         0.737       0.0473   \n",
       "356  Часть 98.3 - По ком звонит колокол   0.153         0.750       0.9500   \n",
       "357        Radhar Ki Holo Antare Byatha   0.346         0.295       0.0585   \n",
       "358            Vale me stin agkalia sou   0.320         0.642       0.0711   \n",
       "\n",
       "       tempo  \n",
       "354   77.988  \n",
       "355  131.353  \n",
       "356   60.051  \n",
       "357   82.392  \n",
       "358  122.134  "
      ]
     },
     "execution_count": 4,
     "metadata": {},
     "output_type": "execute_result"
    }
   ],
   "source": [
    "Decade20_df = CleanData_df[(Data_df['year'] >= 1921) & (Data_df ['year'] <= 1929)]\n",
    "Decade30_df = CleanData_df[(Data_df['year'] >= 1930) & (Data_df ['year'] <= 1939)]\n",
    "Decade40_df = CleanData_df[(Data_df['year'] >= 1940) & (Data_df ['year'] <= 1949)]\n",
    "\n",
    "Decade40_df.head()"
   ]
  },
  {
   "cell_type": "code",
   "execution_count": 9,
   "metadata": {},
   "outputs": [],
   "source": [
    "Decade20_df.to_csv(\"data_files/Decade20.csv\", index=False)"
   ]
  },
  {
   "cell_type": "code",
   "execution_count": 20,
   "metadata": {},
   "outputs": [
    {
     "data": {
      "text/plain": [
       "0.28812371731353414"
      ]
     },
     "execution_count": 20,
     "metadata": {},
     "output_type": "execute_result"
    }
   ],
   "source": [
    "avg20_energy = Decade20_df[\"energy\"].mean()\n",
    "avg30_energy = Decade30_df[\"energy\"].mean()\n",
    "avg40_energy = Decade40_df[\"energy\"].mean()\n",
    "avg30_energy"
   ]
  },
  {
   "cell_type": "code",
   "execution_count": 21,
   "metadata": {},
   "outputs": [
    {
     "data": {
      "text/plain": [
       "0.5362017774777827"
      ]
     },
     "execution_count": 21,
     "metadata": {},
     "output_type": "execute_result"
    }
   ],
   "source": [
    "avg20_danceability = Decade20_df[\"danceability\"].mean()\n",
    "avg30_danceability = Decade30_df[\"danceability\"].mean()\n",
    "avg40_danceability = Decade40_df[\"danceability\"].mean()\n",
    "avg30_danceability"
   ]
  },
  {
   "cell_type": "code",
   "execution_count": 22,
   "metadata": {},
   "outputs": [
    {
     "data": {
      "text/plain": [
       "0.16805416807289864"
      ]
     },
     "execution_count": 22,
     "metadata": {},
     "output_type": "execute_result"
    }
   ],
   "source": [
    "avg20_speechiness = Decade20_df[\"speechiness\"].mean()\n",
    "avg30_speechiness = Decade30_df[\"speechiness\"].mean()\n",
    "avg40_speechiness = Decade40_df[\"speechiness\"].mean()\n",
    "avg30_speechiness"
   ]
  },
  {
   "cell_type": "code",
   "execution_count": 23,
   "metadata": {},
   "outputs": [
    {
     "data": {
      "text/plain": [
       "111.97668894138846"
      ]
     },
     "execution_count": 23,
     "metadata": {},
     "output_type": "execute_result"
    }
   ],
   "source": [
    "avg20_tempo = Decade20_df[\"tempo\"].mean()\n",
    "avg30_tempo = Decade30_df[\"tempo\"].mean()\n",
    "avg40_tempo = Decade40_df[\"tempo\"].mean()\n",
    "avg30_tempo"
   ]
  },
  {
   "cell_type": "code",
   "execution_count": 26,
   "metadata": {},
   "outputs": [],
   "source": [
    "password = \"#Love3232\"\n",
    "postgres_conn_string = f\"postgres:{password}\" \n",
    "engine = create_engine(f\"postgresql://{postgres_conn_string}@localhost:5432/music_schema\")"
   ]
  },
  {
   "cell_type": "code",
   "execution_count": 27,
   "metadata": {},
   "outputs": [
    {
     "data": {
      "text/plain": [
       "['music_data']"
      ]
     },
     "execution_count": 27,
     "metadata": {},
     "output_type": "execute_result"
    }
   ],
   "source": [
    "engine.table_names()"
   ]
  },
  {
   "cell_type": "code",
   "execution_count": 28,
   "metadata": {},
   "outputs": [],
   "source": [
    "CleanData_df.to_sql(name='music_data', con=engine, if_exists='replace', index=False)"
   ]
  },
  {
   "cell_type": "code",
   "execution_count": null,
   "metadata": {},
   "outputs": [],
   "source": []
  }
 ],
 "metadata": {
  "kernelspec": {
   "display_name": "Python 3",
   "language": "python",
   "name": "python3"
  },
  "language_info": {
   "codemirror_mode": {
    "name": "ipython",
    "version": 3
   },
   "file_extension": ".py",
   "mimetype": "text/x-python",
   "name": "python",
   "nbconvert_exporter": "python",
   "pygments_lexer": "ipython3",
   "version": "3.7.6"
  }
 },
 "nbformat": 4,
 "nbformat_minor": 4
}
